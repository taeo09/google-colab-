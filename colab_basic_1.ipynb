{
  "nbformat": 4,
  "nbformat_minor": 0,
  "metadata": {
    "colab": {
      "provenance": [],
      "gpuType": "T4",
      "authorship_tag": "ABX9TyOM17T599xR9N1kf+xwpWUf",
      "include_colab_link": true
    },
    "kernelspec": {
      "name": "python3",
      "display_name": "Python 3"
    },
    "language_info": {
      "name": "python"
    },
    "accelerator": "GPU"
  },
  "cells": [
    {
      "cell_type": "markdown",
      "metadata": {
        "id": "view-in-github",
        "colab_type": "text"
      },
      "source": [
        "<a href=\"https://colab.research.google.com/github/taeo09/google-colab-/blob/main/colab_basic_1.ipynb\" target=\"_parent\"><img src=\"https://colab.research.google.com/assets/colab-badge.svg\" alt=\"Open In Colab\"/></a>"
      ]
    },
    {
      "cell_type": "markdown",
      "source": [
        "python code 성적표\n",
        "\n",
        "\n"
      ],
      "metadata": {
        "id": "OUxgid-yjg_D"
      }
    },
    {
      "cell_type": "code",
      "execution_count": 1,
      "metadata": {
        "colab": {
          "base_uri": "https://localhost:8080/"
        },
        "id": "07EX5U3RicY5",
        "outputId": "d2d7af0e-42b0-47e4-cf34-ba38e22d3fc6"
      },
      "outputs": [
        {
          "output_type": "stream",
          "name": "stdout",
          "text": [
            "학생 1 정보 입력:\n",
            "이름: park\n",
            "국어 점수: 100\n",
            "수학 점수: 100\n",
            "과학 점수: 100\n",
            "학생 2 정보 입력:\n",
            "이름: taeo\n",
            "국어 점수: 100\n",
            "수학 점수: 100\n",
            "과학 점수: 100\n",
            "학생 3 정보 입력:\n",
            "이름: seok\n",
            "국어 점수: 50\n",
            "수학 점수: 20\n",
            "과학 점수: 10\n",
            "학생 4 정보 입력:\n",
            "이름: dowon\n",
            "국어 점수: 40\n",
            "수학 점수: 60\n",
            "과학 점수: 70\n",
            "학생 5 정보 입력:\n",
            "이름: na\n",
            "국어 점수: 30\n",
            "수학 점수: 20\n",
            "과학 점수: 100\n",
            "\n",
            "=== 학생별 성적 및 합계/평균 ===\n",
            "park - 합계: 300, 평균: 100.00\n",
            "taeo - 합계: 300, 평균: 100.00\n",
            "seok - 합계: 80, 평균: 26.67\n",
            "dowon - 합계: 170, 평균: 56.67\n",
            "na - 합계: 150, 평균: 50.00\n",
            "\n",
            "=== 전체 과목별 평균 ===\n",
            "국어 평균: 64.00\n",
            "수학 평균: 60.00\n",
            "과학 평균: 76.00\n"
          ]
        }
      ],
      "source": [
        "# 학생 데이터 입력 (이름, 국어, 수학, 과학)\n",
        "students = []\n",
        "\n",
        "for i in range(5):\n",
        "    print(f\"학생 {i+1} 정보 입력:\")\n",
        "    name = input(\"이름: \")\n",
        "    korean = int(input(\"국어 점수: \"))\n",
        "    math = int(input(\"수학 점수: \"))\n",
        "    science = int(input(\"과학 점수: \"))\n",
        "    students.append({'이름': name, '국어': korean, '수학': math, '과학': science})\n",
        "\n",
        "print(\"\\n=== 학생별 성적 및 합계/평균 ===\")\n",
        "for s in students:\n",
        "    total = s['국어'] + s['수학'] + s['과학']\n",
        "    avg = total / 3\n",
        "    print(f\"{s['이름']} - 합계: {total}, 평균: {avg:.2f}\")\n",
        "\n",
        "# 전체 과목별 평균 구하기\n",
        "total_korean = sum(s['국어'] for s in students)\n",
        "total_math = sum(s['수학'] for s in students)\n",
        "total_science = sum(s['과학'] for s in students)\n",
        "\n",
        "print(\"\\n=== 전체 과목별 평균 ===\")\n",
        "print(f\"국어 평균: {total_korean / 5:.2f}\")\n",
        "print(f\"수학 평균: {total_math / 5:.2f}\")\n",
        "print(f\"과학 평균: {total_science / 5:.2f}\")\n"
      ]
    }
  ]
}